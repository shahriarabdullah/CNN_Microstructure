{
  "nbformat": 4,
  "nbformat_minor": 0,
  "metadata": {
    "colab": {
      "name": "CNN_Microstructure.ipynb",
      "provenance": [],
      "collapsed_sections": [],
      "authorship_tag": "ABX9TyM88PL4E8yN0HIc7XiDgfIh",
      "include_colab_link": true
    },
    "kernelspec": {
      "name": "python3",
      "display_name": "Python 3"
    },
    "language_info": {
      "name": "python"
    }
  },
  "cells": [
    {
      "cell_type": "markdown",
      "metadata": {
        "id": "view-in-github",
        "colab_type": "text"
      },
      "source": [
        "<a href=\"https://colab.research.google.com/github/shahriarabdullah/CNN_Microstructure/blob/main/GoogleColab/CNN_Microstructure_Final.ipynb\" target=\"_parent\"><img src=\"https://colab.research.google.com/assets/colab-badge.svg\" alt=\"Open In Colab\"/></a>"
      ]
    },
    {
      "cell_type": "markdown",
      "source": [
        "# Convolutional Neural Network to Predict Grain Class (Coarse/Fine)\n",
        "\n",
        "Abdullah Shahriar<br>\n",
        "31.01.22\n",
        "\n",
        "**NOTE:** Run each of the following cells serially to train and predict result from the model."
      ],
      "metadata": {
        "id": "jhrS_piPqfPZ"
      }
    },
    {
      "cell_type": "code",
      "source": [
        "# Download dataset from my GitHub\n",
        "!wget https://github.com/shahriarabdullah/CNN_Microstructure/raw/main/GoogleColab/test.zip\n",
        "!wget https://github.com/shahriarabdullah/CNN_Microstructure/raw/main/GoogleColab/train.zip\n"
      ],
      "metadata": {
        "id": "-dbRfsvuIw2x"
      },
      "execution_count": null,
      "outputs": []
    },
    {
      "cell_type": "code",
      "source": [
        "# Extract from ZIP\n",
        "!unzip \"train.zip\" -d \"/content/\"\n",
        "!unzip \"test.zip\" -d \"/content/\""
      ],
      "metadata": {
        "id": "SZtjY7Y7Tagv"
      },
      "execution_count": null,
      "outputs": []
    },
    {
      "cell_type": "code",
      "source": [
        "# Download samples for prediction\n",
        "!wget https://github.com/shahriarabdullah/CNN_Microstructure/raw/main/GoogleColab/c1.png\n",
        "!wget https://github.com/shahriarabdullah/CNN_Microstructure/raw/main/GoogleColab/c2.png\n",
        "!wget https://github.com/shahriarabdullah/CNN_Microstructure/raw/main/GoogleColab/f1.png\n",
        "!wget https://github.com/shahriarabdullah/CNN_Microstructure/raw/main/GoogleColab/f2.png"
      ],
      "metadata": {
        "id": "TV_-oOxtUlFR"
      },
      "execution_count": null,
      "outputs": []
    },
    {
      "cell_type": "code",
      "execution_count": null,
      "metadata": {
        "id": "1bwJA9dGD1vq"
      },
      "outputs": [],
      "source": [
        "# Train model\n",
        "\n",
        "import tensorflow as tf\n",
        "import numpy as np\n",
        "import os\n",
        "import cv2\n",
        "import matplotlib.pyplot as plt\n",
        "import pandas as pd\n",
        "\n",
        "tf.random.set_seed(45)\n",
        "\n",
        "train = tf.keras.preprocessing.image.ImageDataGenerator(rescale=1/255)\n",
        "test = tf.keras.preprocessing.image.ImageDataGenerator(rescale=1/255)\n",
        "\n",
        "train_dataset = train.flow_from_directory(\"/content/train/\",\n",
        "                                          target_size=(432,288),\n",
        "                                          batch_size = 2,\n",
        "                                          class_mode = 'binary')\n",
        "                                         \n",
        "test_dataset = test.flow_from_directory(\"/content/test/\",\n",
        "                                          target_size=(432,288),\n",
        "                                          batch_size =2,\n",
        "                                          class_mode = 'binary')\n",
        "\n",
        "test_dataset.class_indices\n",
        "\n",
        "model = tf.keras.Sequential([\n",
        "    tf.keras.layers.Conv2D(8,(3,3),activation='relu',input_shape=(432,288,3)),\n",
        "    tf.keras.layers.MaxPool2D(2,2),\n",
        "    tf.keras.layers.Conv2D(16,(3,3),activation='relu'),\n",
        "    tf.keras.layers.MaxPool2D(2,2),\n",
        "    tf.keras.layers.Conv2D(32,(3,3),activation='relu'),\n",
        "    tf.keras.layers.MaxPool2D(2,2),\n",
        "    tf.keras.layers.Conv2D(32,(3,3),activation='relu'),\n",
        "    tf.keras.layers.MaxPool2D(2,2),\n",
        "    tf.keras.layers.Flatten(),\n",
        "    tf.keras.layers.Dense(128,activation='relu'),\n",
        "    tf.keras.layers.Dense(1,activation='sigmoid')\n",
        "\n",
        "])\t\n",
        "\n",
        "model.compile(\n",
        "    loss=tf.keras.losses.BinaryCrossentropy(),\n",
        "    optimizer=tf.keras.optimizers.Adam(),\n",
        "    metrics=[\"accuracy\"]\n",
        ")\n",
        "\n",
        "\n",
        "history=model.fit_generator(train_dataset,\n",
        "         steps_per_epoch = 12,\n",
        "         epochs = 10,\n",
        "         validation_data = test_dataset\n",
        "         )\n",
        "\n",
        "model.save(\"trained_model.h5\")\n",
        "\n",
        "pd.DataFrame(history.history).plot()"
      ]
    },
    {
      "cell_type": "code",
      "source": [
        "# Function for prediction\n",
        "def predict_ms(filename):\n",
        "    img = tf.keras.preprocessing.image.load_img(filename,target_size=(432,288))\n",
        "    \n",
        "    plt.figure(figsize=(3,7))\n",
        "    plt.imshow(img)\n",
        "    \n",
        "    Y = tf.keras.preprocessing.image.img_to_array(img)\n",
        "    \n",
        "    X = np.expand_dims(Y,axis=0)\n",
        "    val = model.predict(X)\n",
        "    print(val)\n",
        "    if val == 1:\n",
        "        \n",
        "        plt.xlabel(\"FINE MICROSTRUCTURE\",fontsize=20)\n",
        "        \n",
        "    \n",
        "    elif val == 0:\n",
        "        \n",
        "        plt.xlabel(\"COARSE MICROSTRUCTURE\",fontsize=20)"
      ],
      "metadata": {
        "id": "eHzbdJ0dR-PI"
      },
      "execution_count": null,
      "outputs": []
    },
    {
      "cell_type": "code",
      "source": [
        "# Run the following code to predict result\n",
        "\n",
        "# predict_ms(\"c1.png\") # Output should be COARSE MICROSTRUCTURE\n",
        "\n",
        "predict_ms(\"f1.png\") # Ouput should be FINE MICROSTRUCTURE"
      ],
      "metadata": {
        "id": "4qdmGdJnSXL-"
      },
      "execution_count": null,
      "outputs": []
    }
  ]
}